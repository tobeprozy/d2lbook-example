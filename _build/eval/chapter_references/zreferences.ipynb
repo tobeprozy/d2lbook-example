{
 "cells": [
  {
   "cell_type": "markdown",
   "id": "3b21e146",
   "metadata": {},
   "source": [
    "```eval_rst\n",
    "\n",
    ".. only:: html\n",
    "\n",
    "   参考文献\n",
    "   ==========\n",
    "\n",
    "```\n"
   ]
  },
  {
   "cell_type": "markdown",
   "id": "c760ce70",
   "metadata": {},
   "source": [
    ":bibliography:`../d2l.bib`"
   ]
  }
 ],
 "metadata": {
  "language_info": {
   "name": "python"
  }
 },
 "nbformat": 4,
 "nbformat_minor": 5
}