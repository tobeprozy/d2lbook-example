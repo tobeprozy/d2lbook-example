{
 "cells": [
  {
   "cell_type": "markdown",
   "id": "bf689fff",
   "metadata": {},
   "source": [
    "《机器人与自动驾驶中的感知原理、算法和实践》\n",
    "========================"
   ]
  },
  {
   "cell_type": "markdown",
   "id": "77a9031c",
   "metadata": {},
   "source": [
    "```eval_rst\n",
    ".. raw:: html\n",
    "   :file: frontpage.html\n",
    "```\n"
   ]
  },
  {
   "cell_type": "markdown",
   "id": "0841996e",
   "metadata": {},
   "source": [
    "```toc\n",
    ":maxdepth: 1\n",
    "\n",
    "chapter_preface/index\n",
    "chapter_installation/index\n",
    "chapter_notation/index\n",
    "```\n"
   ]
  },
  {
   "cell_type": "markdown",
   "id": "7b6d076c",
   "metadata": {},
   "source": [
    "```toc\n",
    ":maxdepth: 2\n",
    ":numbered:\n",
    "\n",
    "chapter_introduction/index\n",
    "chapter_preliminaries/index\n",
    "chapter_cpp/index\n",
    "chapter_software/index\n",
    "```\n"
   ]
  },
  {
   "cell_type": "markdown",
   "id": "d3c3e169",
   "metadata": {},
   "source": [
    "```toc\n",
    ":maxdepth: 1\n",
    "\n",
    "chapter_references/zreferences\n",
    "```\n"
   ]
  }
 ],
 "metadata": {
  "language_info": {
   "name": "python"
  }
 },
 "nbformat": 4,
 "nbformat_minor": 5
}