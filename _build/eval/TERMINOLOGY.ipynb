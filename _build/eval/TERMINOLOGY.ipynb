{
 "cells": [
  {
   "cell_type": "markdown",
   "id": "d4469000",
   "metadata": {},
   "source": [
    "## 英汉术语对照\n",
    "\n",
    "鞍点，saddle point\n",
    "\n",
    "变换，transform\n",
    "\n",
    "编码器，encoder\n",
    "\n",
    "标签，label\n",
    "\n",
    "步幅，stride"
   ]
  }
 ],
 "metadata": {
  "language_info": {
   "name": "python"
  }
 },
 "nbformat": 4,
 "nbformat_minor": 5
}