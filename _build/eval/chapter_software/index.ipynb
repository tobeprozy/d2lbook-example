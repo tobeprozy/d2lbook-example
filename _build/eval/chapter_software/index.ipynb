{
 "cells": [
  {
   "cell_type": "markdown",
   "id": "ee3dce30",
   "metadata": {},
   "source": [
    "#  软件工具\n",
    "\n",
    "\n",
    "```toc\n",
    ":maxdepth: 2\n",
    "\n",
    "\n",
    "```"
   ]
  }
 ],
 "metadata": {
  "language_info": {
   "name": "python"
  }
 },
 "nbformat": 4,
 "nbformat_minor": 5
}